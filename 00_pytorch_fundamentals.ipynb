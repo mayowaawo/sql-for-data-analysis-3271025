{
  "nbformat": 4,
  "nbformat_minor": 0,
  "metadata": {
    "colab": {
      "provenance": [],
      "toc_visible": true,
      "gpuType": "T4",
      "authorship_tag": "ABX9TyNyNoaN0GYVi3uVa95qNx3D",
      "include_colab_link": true
    },
    "kernelspec": {
      "name": "python3",
      "display_name": "Python 3"
    },
    "language_info": {
      "name": "python"
    },
    "accelerator": "GPU"
  },
  "cells": [
    {
      "cell_type": "markdown",
      "metadata": {
        "id": "view-in-github",
        "colab_type": "text"
      },
      "source": [
        "<a href=\"https://colab.research.google.com/github/mayowaawo/sql-for-data-analysis-3271025/blob/main/00_pytorch_fundamentals.ipynb\" target=\"_parent\"><img src=\"https://colab.research.google.com/assets/colab-badge.svg\" alt=\"Open In Colab\"/></a>"
      ]
    },
    {
      "cell_type": "markdown",
      "source": [
        "# PyTorch fundamentals"
      ],
      "metadata": {
        "id": "xnDlg_prnQ8d"
      }
    },
    {
      "cell_type": "code",
      "execution_count": 82,
      "metadata": {
        "colab": {
          "base_uri": "https://localhost:8080/"
        },
        "id": "GyThhcUvl_uX",
        "outputId": "01e52a30-0989-4df0-eb09-92eb76a5a847"
      },
      "outputs": [
        {
          "output_type": "stream",
          "name": "stdout",
          "text": [
            "Hello world, I'm excited to learn pytorch\n"
          ]
        }
      ],
      "source": [
        "print(\"Hello world, I'm excited to learn pytorch\")"
      ]
    },
    {
      "cell_type": "code",
      "source": [
        "import torch\n",
        "import pandas as pd\n",
        "import numpy as np\n",
        "import matplotlib.pyplot as plt\n",
        "print(torch.__version__)"
      ],
      "metadata": {
        "colab": {
          "base_uri": "https://localhost:8080/"
        },
        "id": "jHJc4HqxnBzS",
        "outputId": "283c8c01-3bd4-4615-ea1c-44a476f49b52"
      },
      "execution_count": 2,
      "outputs": [
        {
          "output_type": "stream",
          "name": "stdout",
          "text": [
            "2.8.0+cu126\n"
          ]
        }
      ]
    },
    {
      "cell_type": "markdown",
      "source": [
        "##Intro to Tensors\n",
        "A tensor is an expression of data using numbers\n"
      ],
      "metadata": {
        "id": "cn5nkfL3owe4"
      }
    },
    {
      "cell_type": "markdown",
      "source": [
        "### creating tensors"
      ],
      "metadata": {
        "id": "QYJHZcNSo1IJ"
      }
    },
    {
      "cell_type": "code",
      "source": [
        "#scalar: a quantity described only by magnitude. its a single number\n",
        "scalar = torch.tensor(7)\n",
        "scalar"
      ],
      "metadata": {
        "colab": {
          "base_uri": "https://localhost:8080/"
        },
        "id": "w04iFCxlo6kl",
        "outputId": "e6f490db-11e9-496e-8ff9-8304c3a10970"
      },
      "execution_count": 3,
      "outputs": [
        {
          "output_type": "execute_result",
          "data": {
            "text/plain": [
              "tensor(7)"
            ]
          },
          "metadata": {},
          "execution_count": 3
        }
      ]
    },
    {
      "cell_type": "code",
      "source": [
        "scalar.ndim #a scalar has 0 dimension because it has no indeces"
      ],
      "metadata": {
        "colab": {
          "base_uri": "https://localhost:8080/"
        },
        "id": "tb9Lb9-4vgd1",
        "outputId": "51b2222f-31d2-44e0-c179-6699678f4692"
      },
      "execution_count": 4,
      "outputs": [
        {
          "output_type": "execute_result",
          "data": {
            "text/plain": [
              "0"
            ]
          },
          "metadata": {},
          "execution_count": 4
        }
      ]
    },
    {
      "cell_type": "code",
      "source": [
        "scalar.shape"
      ],
      "metadata": {
        "colab": {
          "base_uri": "https://localhost:8080/"
        },
        "id": "gkUtJZOyyT_o",
        "outputId": "6959dced-9bc6-409a-eb2c-4720567596c2"
      },
      "execution_count": 5,
      "outputs": [
        {
          "output_type": "execute_result",
          "data": {
            "text/plain": [
              "torch.Size([])"
            ]
          },
          "metadata": {},
          "execution_count": 5
        }
      ]
    },
    {
      "cell_type": "code",
      "source": [
        "#get tensor back as python int\n",
        "scalar.item()"
      ],
      "metadata": {
        "colab": {
          "base_uri": "https://localhost:8080/"
        },
        "id": "0csNS4yFvmoU",
        "outputId": "8d270170-459f-4ee3-fd1d-cbcdebe3ca13"
      },
      "execution_count": 6,
      "outputs": [
        {
          "output_type": "execute_result",
          "data": {
            "text/plain": [
              "7"
            ]
          },
          "metadata": {},
          "execution_count": 6
        }
      ]
    },
    {
      "cell_type": "code",
      "source": [
        "#vector: a quantity that has both magnitute and direction. how far something is going and what direction it's going in e.g velocity\n",
        "vector = torch.tensor([7,7])\n",
        "vector"
      ],
      "metadata": {
        "colab": {
          "base_uri": "https://localhost:8080/"
        },
        "id": "pQKfFI8Pv8Ht",
        "outputId": "cbcece61-8732-42c5-c088-598d6922fe95"
      },
      "execution_count": 7,
      "outputs": [
        {
          "output_type": "execute_result",
          "data": {
            "text/plain": [
              "tensor([7, 7])"
            ]
          },
          "metadata": {},
          "execution_count": 7
        }
      ]
    },
    {
      "cell_type": "code",
      "source": [
        "vector.ndim #number of dimensions, think of this as number of square bracket pair[]"
      ],
      "metadata": {
        "colab": {
          "base_uri": "https://localhost:8080/"
        },
        "id": "gOYxJKUhwtfI",
        "outputId": "89c53d4e-a6af-4ab7-84e3-96ba0ce410fb"
      },
      "execution_count": 8,
      "outputs": [
        {
          "output_type": "execute_result",
          "data": {
            "text/plain": [
              "1"
            ]
          },
          "metadata": {},
          "execution_count": 8
        }
      ]
    },
    {
      "cell_type": "code",
      "source": [
        "vector.shape"
      ],
      "metadata": {
        "colab": {
          "base_uri": "https://localhost:8080/"
        },
        "id": "CMjDD0ZywwQU",
        "outputId": "c53ebf07-3219-463a-e23b-4e84c4a408dc"
      },
      "execution_count": 9,
      "outputs": [
        {
          "output_type": "execute_result",
          "data": {
            "text/plain": [
              "torch.Size([2])"
            ]
          },
          "metadata": {},
          "execution_count": 9
        }
      ]
    },
    {
      "cell_type": "code",
      "source": [
        "#matrix: a rectangular arrangement of numbers or symbols in rows and columns\n",
        "MATRIX = torch.tensor([[7,8],\n",
        "                      [9,10]])"
      ],
      "metadata": {
        "id": "YsXw_yto2hTW"
      },
      "execution_count": 10,
      "outputs": []
    },
    {
      "cell_type": "code",
      "source": [
        "MATRIX.ndim"
      ],
      "metadata": {
        "colab": {
          "base_uri": "https://localhost:8080/"
        },
        "id": "1JW8P2s_7bRV",
        "outputId": "74a05f90-3e54-40f3-9dae-a69070c55559"
      },
      "execution_count": 11,
      "outputs": [
        {
          "output_type": "execute_result",
          "data": {
            "text/plain": [
              "2"
            ]
          },
          "metadata": {},
          "execution_count": 11
        }
      ]
    },
    {
      "cell_type": "code",
      "source": [
        "MATRIX[1]"
      ],
      "metadata": {
        "colab": {
          "base_uri": "https://localhost:8080/"
        },
        "id": "yVhTIVhM7pWO",
        "outputId": "6cae3262-9e39-4cee-dc47-91e2d686e38c"
      },
      "execution_count": 12,
      "outputs": [
        {
          "output_type": "execute_result",
          "data": {
            "text/plain": [
              "tensor([ 9, 10])"
            ]
          },
          "metadata": {},
          "execution_count": 12
        }
      ]
    },
    {
      "cell_type": "code",
      "source": [
        "MATRIX.shape"
      ],
      "metadata": {
        "colab": {
          "base_uri": "https://localhost:8080/"
        },
        "id": "JaynA3Io71aP",
        "outputId": "47c3c08d-2d10-4143-e8dd-a451d74f3d9b"
      },
      "execution_count": 13,
      "outputs": [
        {
          "output_type": "execute_result",
          "data": {
            "text/plain": [
              "torch.Size([2, 2])"
            ]
          },
          "metadata": {},
          "execution_count": 13
        }
      ]
    },
    {
      "cell_type": "code",
      "source": [
        "#tensor\n",
        "TENSOR = torch.tensor([[[1,2,3,4],\n",
        "                        [3,6,9,5],\n",
        "                        [2,4,5,6],\n",
        "                        [5,6,7,8],\n",
        "                        [9,9,9,9]]])"
      ],
      "metadata": {
        "id": "y-98r7hX7-Gq"
      },
      "execution_count": 14,
      "outputs": []
    },
    {
      "cell_type": "code",
      "source": [
        "TENSOR.ndim"
      ],
      "metadata": {
        "colab": {
          "base_uri": "https://localhost:8080/"
        },
        "id": "5_Kc-_a48Om3",
        "outputId": "e4d051d5-7e45-4874-8a1c-92776097dfc7"
      },
      "execution_count": 15,
      "outputs": [
        {
          "output_type": "execute_result",
          "data": {
            "text/plain": [
              "3"
            ]
          },
          "metadata": {},
          "execution_count": 15
        }
      ]
    },
    {
      "cell_type": "code",
      "source": [
        "TENSOR.shape #this [1,3,3] means we have 1 [3,3] dimensional data"
      ],
      "metadata": {
        "colab": {
          "base_uri": "https://localhost:8080/"
        },
        "id": "Ya2e_2KD8Z3R",
        "outputId": "ffb64999-e809-4c8f-c73c-32571f73cb28"
      },
      "execution_count": 16,
      "outputs": [
        {
          "output_type": "execute_result",
          "data": {
            "text/plain": [
              "torch.Size([1, 5, 4])"
            ]
          },
          "metadata": {},
          "execution_count": 16
        }
      ]
    },
    {
      "cell_type": "markdown",
      "source": [
        "### Random Tensors\n",
        "#### why random tensors?\n",
        "#### Random tensors are important because the way many neural netowrks learn is that they start with tensors full of random numbers and then adjust those random numbers to better represent the data\n",
        "`start with random numbers -> look at data -> update random numbers -> look at data -> update random numbers` this is how neural networks works"
      ],
      "metadata": {
        "id": "LNoHBpkLDPaC"
      }
    },
    {
      "cell_type": "code",
      "source": [
        "#create a random tensor of size (3,4)\n",
        "random_tensor = torch.rand(3,4)\n",
        "random_tensor"
      ],
      "metadata": {
        "colab": {
          "base_uri": "https://localhost:8080/"
        },
        "id": "pk7b0q6j80lY",
        "outputId": "3072e15e-09e2-4f1e-d10f-c771cfd82349"
      },
      "execution_count": 17,
      "outputs": [
        {
          "output_type": "execute_result",
          "data": {
            "text/plain": [
              "tensor([[0.4524, 0.7281, 0.5252, 0.5226],\n",
              "        [0.6197, 0.0858, 0.4590, 0.5103],\n",
              "        [0.7489, 0.6202, 0.1906, 0.4819]])"
            ]
          },
          "metadata": {},
          "execution_count": 17
        }
      ]
    },
    {
      "cell_type": "code",
      "source": [
        "#create a random tensor with similar shape to an image tensor\n",
        "random_image_size_tensor = torch.rand(size = (3,224,224)) #color chanels (R,G,B), height, width\n",
        "random_image_size_tensor.shape, random_image_size_tensor.ndim"
      ],
      "metadata": {
        "colab": {
          "base_uri": "https://localhost:8080/"
        },
        "id": "y3s8-9DeEY30",
        "outputId": "b25576bd-ccba-4609-ffb6-993102986394"
      },
      "execution_count": 18,
      "outputs": [
        {
          "output_type": "execute_result",
          "data": {
            "text/plain": [
              "(torch.Size([3, 224, 224]), 3)"
            ]
          },
          "metadata": {},
          "execution_count": 18
        }
      ]
    },
    {
      "cell_type": "markdown",
      "source": [
        "### Zeros and ones"
      ],
      "metadata": {
        "id": "_E1A8ySzJNao"
      }
    },
    {
      "cell_type": "code",
      "source": [
        "#create a tensor of all zeros usually used to mask the numbers (telling tensor to ignore)\n",
        "zeros = torch.zeros(3,4,10)\n",
        "zeros"
      ],
      "metadata": {
        "colab": {
          "base_uri": "https://localhost:8080/"
        },
        "id": "ttG0QJc9EYzq",
        "outputId": "4775a608-1131-463d-ff15-57c6938a717e"
      },
      "execution_count": 19,
      "outputs": [
        {
          "output_type": "execute_result",
          "data": {
            "text/plain": [
              "tensor([[[0., 0., 0., 0., 0., 0., 0., 0., 0., 0.],\n",
              "         [0., 0., 0., 0., 0., 0., 0., 0., 0., 0.],\n",
              "         [0., 0., 0., 0., 0., 0., 0., 0., 0., 0.],\n",
              "         [0., 0., 0., 0., 0., 0., 0., 0., 0., 0.]],\n",
              "\n",
              "        [[0., 0., 0., 0., 0., 0., 0., 0., 0., 0.],\n",
              "         [0., 0., 0., 0., 0., 0., 0., 0., 0., 0.],\n",
              "         [0., 0., 0., 0., 0., 0., 0., 0., 0., 0.],\n",
              "         [0., 0., 0., 0., 0., 0., 0., 0., 0., 0.]],\n",
              "\n",
              "        [[0., 0., 0., 0., 0., 0., 0., 0., 0., 0.],\n",
              "         [0., 0., 0., 0., 0., 0., 0., 0., 0., 0.],\n",
              "         [0., 0., 0., 0., 0., 0., 0., 0., 0., 0.],\n",
              "         [0., 0., 0., 0., 0., 0., 0., 0., 0., 0.]]])"
            ]
          },
          "metadata": {},
          "execution_count": 19
        }
      ]
    },
    {
      "cell_type": "code",
      "source": [
        "#create a tensor of all ones\n",
        "ones = torch.ones(3,4,90)\n",
        "ones"
      ],
      "metadata": {
        "colab": {
          "base_uri": "https://localhost:8080/"
        },
        "id": "ZZ3OCQNFEYuq",
        "outputId": "8f18a69d-dc6b-4b06-eb1c-77397e1353f0"
      },
      "execution_count": 20,
      "outputs": [
        {
          "output_type": "execute_result",
          "data": {
            "text/plain": [
              "tensor([[[1., 1., 1.,  ..., 1., 1., 1.],\n",
              "         [1., 1., 1.,  ..., 1., 1., 1.],\n",
              "         [1., 1., 1.,  ..., 1., 1., 1.],\n",
              "         [1., 1., 1.,  ..., 1., 1., 1.]],\n",
              "\n",
              "        [[1., 1., 1.,  ..., 1., 1., 1.],\n",
              "         [1., 1., 1.,  ..., 1., 1., 1.],\n",
              "         [1., 1., 1.,  ..., 1., 1., 1.],\n",
              "         [1., 1., 1.,  ..., 1., 1., 1.]],\n",
              "\n",
              "        [[1., 1., 1.,  ..., 1., 1., 1.],\n",
              "         [1., 1., 1.,  ..., 1., 1., 1.],\n",
              "         [1., 1., 1.,  ..., 1., 1., 1.],\n",
              "         [1., 1., 1.,  ..., 1., 1., 1.]]])"
            ]
          },
          "metadata": {},
          "execution_count": 20
        }
      ]
    },
    {
      "cell_type": "code",
      "source": [
        "ones.dtype"
      ],
      "metadata": {
        "colab": {
          "base_uri": "https://localhost:8080/"
        },
        "id": "LvtblU_JEYoq",
        "outputId": "bfec3521-a5e7-4a62-ad7b-1f0dcf62a034"
      },
      "execution_count": 21,
      "outputs": [
        {
          "output_type": "execute_result",
          "data": {
            "text/plain": [
              "torch.float32"
            ]
          },
          "metadata": {},
          "execution_count": 21
        }
      ]
    },
    {
      "cell_type": "markdown",
      "source": [
        "###Creating a range of tensors and tensors-like"
      ],
      "metadata": {
        "id": "r0lLZpWrKsm8"
      }
    },
    {
      "cell_type": "code",
      "source": [
        "#use torch.arange\n",
        "one_to_ten = torch.arange(start= 0, end= 100, step =5)\n",
        "one_to_ten"
      ],
      "metadata": {
        "colab": {
          "base_uri": "https://localhost:8080/"
        },
        "id": "5Yz_bGEPEYhz",
        "outputId": "e900b3a3-0a53-431e-a13e-de6d2f573a00"
      },
      "execution_count": 22,
      "outputs": [
        {
          "output_type": "execute_result",
          "data": {
            "text/plain": [
              "tensor([ 0,  5, 10, 15, 20, 25, 30, 35, 40, 45, 50, 55, 60, 65, 70, 75, 80, 85,\n",
              "        90, 95])"
            ]
          },
          "metadata": {},
          "execution_count": 22
        }
      ]
    },
    {
      "cell_type": "code",
      "source": [
        "#creating tensors like\n",
        "ten_zeros = torch.zeros_like(input=one_to_ten)\n",
        "ten_zeros"
      ],
      "metadata": {
        "colab": {
          "base_uri": "https://localhost:8080/"
        },
        "id": "Mrjx9m88KjAN",
        "outputId": "f80c4bcd-05a9-46c0-8a26-37340194699d"
      },
      "execution_count": 23,
      "outputs": [
        {
          "output_type": "execute_result",
          "data": {
            "text/plain": [
              "tensor([0, 0, 0, 0, 0, 0, 0, 0, 0, 0, 0, 0, 0, 0, 0, 0, 0, 0, 0, 0])"
            ]
          },
          "metadata": {},
          "execution_count": 23
        }
      ]
    },
    {
      "cell_type": "markdown",
      "source": [
        "###Tensor datatypes\n",
        "***Note:*** Tensor datatypes is one of the 3 big errors you'll run into with pytorch and deep learning:\n",
        "1. Tensors not right datatype\n",
        "2. Tensors not right shape\n",
        "3. Tensors not on right device"
      ],
      "metadata": {
        "id": "N2Sa3qorREuB"
      }
    },
    {
      "cell_type": "code",
      "source": [
        "#float 32 tensor\n",
        "float_32_tensor = torch.tensor([3.0, 6.0, 9.0],\n",
        "                               dtype=torch.float16,              #what datatype the tesnsor are (default is 32)\n",
        "                               device= 'cpu',             #what device the tensor is on\n",
        "                               requires_grad=False)     #whether or not to track gradients with this tensor operation\n",
        "float_32_tensor"
      ],
      "metadata": {
        "colab": {
          "base_uri": "https://localhost:8080/"
        },
        "id": "J-YJ5dgkKi61",
        "outputId": "435e42f9-0773-49a9-be39-73456eed0e98"
      },
      "execution_count": 24,
      "outputs": [
        {
          "output_type": "execute_result",
          "data": {
            "text/plain": [
              "tensor([3., 6., 9.], dtype=torch.float16)"
            ]
          },
          "metadata": {},
          "execution_count": 24
        }
      ]
    },
    {
      "cell_type": "code",
      "source": [
        "float_32_tensor.dtype #this is because the default data type used in torch is float 32"
      ],
      "metadata": {
        "colab": {
          "base_uri": "https://localhost:8080/"
        },
        "id": "97kJm0i-Ki0_",
        "outputId": "4cb6dbba-b83a-488e-c808-e8decff1bf74"
      },
      "execution_count": 25,
      "outputs": [
        {
          "output_type": "execute_result",
          "data": {
            "text/plain": [
              "torch.float16"
            ]
          },
          "metadata": {},
          "execution_count": 25
        }
      ]
    },
    {
      "cell_type": "code",
      "source": [
        "float_16_tensor = float_32_tensor.type(torch.half)"
      ],
      "metadata": {
        "id": "8vtK-oH7KiwZ"
      },
      "execution_count": 26,
      "outputs": []
    },
    {
      "cell_type": "code",
      "source": [
        "float_16_tensor * float_32_tensor"
      ],
      "metadata": {
        "colab": {
          "base_uri": "https://localhost:8080/"
        },
        "id": "PpvXuH63Kirl",
        "outputId": "ac7e1c7c-fe7c-4355-fb97-a5efab6898f3"
      },
      "execution_count": 27,
      "outputs": [
        {
          "output_type": "execute_result",
          "data": {
            "text/plain": [
              "tensor([ 9., 36., 81.], dtype=torch.float16)"
            ]
          },
          "metadata": {},
          "execution_count": 27
        }
      ]
    },
    {
      "cell_type": "markdown",
      "source": [
        "###Getting information from tensors (attributes)\n",
        "1. To get datatype from a tensor use `tensor.dtype`\n",
        "2. To get shape from a tensor use `tensor.shape`\n",
        "3. To get device from a tensor use `tensor.devixe`"
      ],
      "metadata": {
        "id": "DykYpiUTWvqQ"
      }
    },
    {
      "cell_type": "code",
      "source": [
        "#create a tensor\n",
        "some_tensor = torch.rand(3,4)\n",
        "some_tensor"
      ],
      "metadata": {
        "colab": {
          "base_uri": "https://localhost:8080/"
        },
        "id": "sxPtswUDKinu",
        "outputId": "c9068698-17e0-440b-a384-abe6d0d7a8a6"
      },
      "execution_count": 28,
      "outputs": [
        {
          "output_type": "execute_result",
          "data": {
            "text/plain": [
              "tensor([[0.8648, 0.0891, 0.2660, 0.2834],\n",
              "        [0.8450, 0.0314, 0.6733, 0.9318],\n",
              "        [0.5153, 0.3898, 0.2514, 0.5329]])"
            ]
          },
          "metadata": {},
          "execution_count": 28
        }
      ]
    },
    {
      "cell_type": "code",
      "source": [
        "#find out details about some tensor\n",
        "print(some_tensor)\n",
        "print(f\"Datatype of tensor: {some_tensor.dtype}\")\n",
        "print(f\"Shape of tensor: {some_tensor.shape}\")\n",
        "print(f\"Device tensor is on: {some_tensor.device}\")"
      ],
      "metadata": {
        "colab": {
          "base_uri": "https://localhost:8080/"
        },
        "id": "cOzn28jJKijA",
        "outputId": "6611249b-6a00-48e4-d473-07dc403144d3"
      },
      "execution_count": 29,
      "outputs": [
        {
          "output_type": "stream",
          "name": "stdout",
          "text": [
            "tensor([[0.8648, 0.0891, 0.2660, 0.2834],\n",
            "        [0.8450, 0.0314, 0.6733, 0.9318],\n",
            "        [0.5153, 0.3898, 0.2514, 0.5329]])\n",
            "Datatype of tensor: torch.float32\n",
            "Shape of tensor: torch.Size([3, 4])\n",
            "Device tensor is on: cpu\n"
          ]
        }
      ]
    },
    {
      "cell_type": "markdown",
      "source": [
        "### Manipulating tensors (tensor operations)\n",
        "Tensor operations include:\n",
        "\n",
        "*   Addition\n",
        "*   Subtraction   \n",
        "*   Multiplication (element-wise)\n",
        "*   Division\n",
        "\n",
        "\n",
        "\n",
        "*   Matrix multiplication\n",
        "\n",
        "\n",
        "\n",
        "\n",
        "\n",
        "\n",
        "\n"
      ],
      "metadata": {
        "id": "vf3Av1PPZ-Tc"
      }
    },
    {
      "cell_type": "code",
      "source": [
        "#addition: create a tensor and add ten to it\n",
        "tensor = torch.tensor([1,2,3])\n",
        "tensor+10\n"
      ],
      "metadata": {
        "colab": {
          "base_uri": "https://localhost:8080/"
        },
        "id": "UVy4EC9dKifb",
        "outputId": "73fbc49a-cba6-492c-b31e-4c4a8fb40395"
      },
      "execution_count": 30,
      "outputs": [
        {
          "output_type": "execute_result",
          "data": {
            "text/plain": [
              "tensor([11, 12, 13])"
            ]
          },
          "metadata": {},
          "execution_count": 30
        }
      ]
    },
    {
      "cell_type": "code",
      "source": [
        "#multiply tensor by 10\n",
        "tensor*10"
      ],
      "metadata": {
        "colab": {
          "base_uri": "https://localhost:8080/"
        },
        "id": "gP_jJWG6acO0",
        "outputId": "6d65dcca-81fc-4387-ef82-da0af0731b38"
      },
      "execution_count": 31,
      "outputs": [
        {
          "output_type": "execute_result",
          "data": {
            "text/plain": [
              "tensor([10, 20, 30])"
            ]
          },
          "metadata": {},
          "execution_count": 31
        }
      ]
    },
    {
      "cell_type": "code",
      "source": [
        "#subtract 10\n",
        "tensor-10"
      ],
      "metadata": {
        "colab": {
          "base_uri": "https://localhost:8080/"
        },
        "id": "AV6jhIvvKibI",
        "outputId": "62190eac-251e-41b5-a1cd-1ad6bd32bffd"
      },
      "execution_count": 32,
      "outputs": [
        {
          "output_type": "execute_result",
          "data": {
            "text/plain": [
              "tensor([-9, -8, -7])"
            ]
          },
          "metadata": {},
          "execution_count": 32
        }
      ]
    },
    {
      "cell_type": "code",
      "source": [
        "#try out pytorch in-built function\n",
        "torch.mul(tensor,10)"
      ],
      "metadata": {
        "colab": {
          "base_uri": "https://localhost:8080/"
        },
        "id": "T9rYoiLuKiUT",
        "outputId": "9edb6779-a7ac-4de6-80be-66bef66f3f63"
      },
      "execution_count": 33,
      "outputs": [
        {
          "output_type": "execute_result",
          "data": {
            "text/plain": [
              "tensor([10, 20, 30])"
            ]
          },
          "metadata": {},
          "execution_count": 33
        }
      ]
    },
    {
      "cell_type": "code",
      "source": [
        "torch.add(tensor,10)"
      ],
      "metadata": {
        "colab": {
          "base_uri": "https://localhost:8080/"
        },
        "id": "sS8ccei0KiOu",
        "outputId": "1a772da2-5dd6-407d-e3c6-9e6b9de68e38"
      },
      "execution_count": 34,
      "outputs": [
        {
          "output_type": "execute_result",
          "data": {
            "text/plain": [
              "tensor([11, 12, 13])"
            ]
          },
          "metadata": {},
          "execution_count": 34
        }
      ]
    },
    {
      "cell_type": "markdown",
      "source": [
        "###Matrix multiplication\n",
        "Two main ways of performing multiplication in neural networks and deep learning\n",
        "1. Element-wise multiplication\n",
        "2. Matrix multiplication\n",
        "\n",
        "There are two main rules that performing matrix multiplication needs to satisfy;\n",
        "1. The **inner dimensions** must match:\n",
        "\n",
        "`@` is the symbol for matrix operation in python\n",
        "\n",
        "*   `(3,2) @ (3,2)` won't work\n",
        "\n",
        "*   `(2,3) @ (3,2)` will work\n",
        "*   `(3,2) @ (2,3)` will work\n",
        "\n",
        "Inner dimensions are the numbers closest to the `@` symbol. They must match for a matrix multiplication to work\n",
        "\n",
        "2. The resulting matrix has the shape of the **outer dimensions**:\n",
        "\n",
        "\n",
        "*   `(2,3) @ (3,2) -> (2,2)`\n",
        "*   `(3,2) @ (2,3) -> (3,3)`\n",
        "\n",
        "\n",
        "\n"
      ],
      "metadata": {
        "id": "wPcIJgT-X7A_"
      }
    },
    {
      "cell_type": "code",
      "source": [
        "#element wise multiplication\n",
        "print(tensor, \"*\", tensor)\n",
        "print(f\"Equals: {tensor*tensor}\")"
      ],
      "metadata": {
        "colab": {
          "base_uri": "https://localhost:8080/"
        },
        "id": "mmhVisJ8ZlOV",
        "outputId": "8a27a040-3eb6-4e16-ee5a-df80e00962ca"
      },
      "execution_count": 35,
      "outputs": [
        {
          "output_type": "stream",
          "name": "stdout",
          "text": [
            "tensor([1, 2, 3]) * tensor([1, 2, 3])\n",
            "Equals: tensor([1, 4, 9])\n"
          ]
        }
      ]
    },
    {
      "cell_type": "code",
      "source": [
        "#matrix multiplication\n",
        "matrix_mul = torch.rand(1,3)\n",
        "matrix_mul2 = torch.rand(3,1)\n",
        "torch.matmul(matrix_mul, matrix_mul2)"
      ],
      "metadata": {
        "colab": {
          "base_uri": "https://localhost:8080/"
        },
        "id": "GlV3TRS2EYcf",
        "outputId": "a24dc037-c673-47ed-fc44-357dfb78741e"
      },
      "execution_count": 36,
      "outputs": [
        {
          "output_type": "execute_result",
          "data": {
            "text/plain": [
              "tensor([[0.6564]])"
            ]
          },
          "metadata": {},
          "execution_count": 36
        }
      ]
    },
    {
      "cell_type": "code",
      "source": [
        "#matrix multiplication\n",
        "torch.matmul(torch.rand(10,10), torch.rand(10,10)).shape"
      ],
      "metadata": {
        "colab": {
          "base_uri": "https://localhost:8080/"
        },
        "id": "MVVTHcxMEYX_",
        "outputId": "61dcb88a-06f0-46de-ad7d-2e66589013c2"
      },
      "execution_count": 37,
      "outputs": [
        {
          "output_type": "execute_result",
          "data": {
            "text/plain": [
              "torch.Size([10, 10])"
            ]
          },
          "metadata": {},
          "execution_count": 37
        }
      ]
    },
    {
      "cell_type": "code",
      "source": [
        "#matrix multiplication\n",
        "1*1 + 2*2 + 3*3"
      ],
      "metadata": {
        "colab": {
          "base_uri": "https://localhost:8080/"
        },
        "id": "XTE3M5gcEYQV",
        "outputId": "062785d8-5e01-44cb-b284-3b50fe3ad923"
      },
      "execution_count": 38,
      "outputs": [
        {
          "output_type": "execute_result",
          "data": {
            "text/plain": [
              "14"
            ]
          },
          "metadata": {},
          "execution_count": 38
        }
      ]
    },
    {
      "cell_type": "code",
      "source": [
        "%time\n",
        "value = 0\n",
        "for i in range(len(tensor)):\n",
        "  value += tensor[i] * tensor[i]\n",
        "print(value)"
      ],
      "metadata": {
        "colab": {
          "base_uri": "https://localhost:8080/"
        },
        "id": "nFq6CXhMEYFE",
        "outputId": "e2eda169-1c7d-4f39-b983-8aca2499ba27"
      },
      "execution_count": 39,
      "outputs": [
        {
          "output_type": "stream",
          "name": "stdout",
          "text": [
            "CPU times: user 2 µs, sys: 0 ns, total: 2 µs\n",
            "Wall time: 5.48 µs\n",
            "tensor(14)\n"
          ]
        }
      ]
    },
    {
      "cell_type": "code",
      "source": [
        "%time\n",
        "torch.matmul(tensor, tensor) #compute time is faster using built in torch function"
      ],
      "metadata": {
        "colab": {
          "base_uri": "https://localhost:8080/"
        },
        "id": "H6lO5KKpEX48",
        "outputId": "c47bf0da-2046-4362-bec6-537fb44c4bdb"
      },
      "execution_count": 40,
      "outputs": [
        {
          "output_type": "stream",
          "name": "stdout",
          "text": [
            "CPU times: user 2 µs, sys: 0 ns, total: 2 µs\n",
            "Wall time: 4.53 µs\n"
          ]
        },
        {
          "output_type": "execute_result",
          "data": {
            "text/plain": [
              "tensor(14)"
            ]
          },
          "metadata": {},
          "execution_count": 40
        }
      ]
    },
    {
      "cell_type": "code",
      "source": [
        "#shapes for matrix multiplication\n",
        "tensor_A = torch.tensor([[1,2],\n",
        "                         [3,4],\n",
        "                         [5,6]])\n",
        "tensor_B = torch.tensor([[7,10],\n",
        "                         [8,11],\n",
        "                         [9,12]])\n",
        "torch.mm(tensor_A, tensor_B) #torch.mm is the same as torch.matmul (it's an alias for torch.matmul)"
      ],
      "metadata": {
        "colab": {
          "base_uri": "https://localhost:8080/",
          "height": 180
        },
        "id": "nRri6XNP27DT",
        "outputId": "1ca693cb-4fba-4a4f-f635-590b2cc47b0a"
      },
      "execution_count": 41,
      "outputs": [
        {
          "output_type": "error",
          "ename": "RuntimeError",
          "evalue": "mat1 and mat2 shapes cannot be multiplied (3x2 and 3x2)",
          "traceback": [
            "\u001b[0;31m---------------------------------------------------------------------------\u001b[0m",
            "\u001b[0;31mRuntimeError\u001b[0m                              Traceback (most recent call last)",
            "\u001b[0;32m/tmp/ipython-input-3925773968.py\u001b[0m in \u001b[0;36m<cell line: 0>\u001b[0;34m()\u001b[0m\n\u001b[1;32m      6\u001b[0m                          \u001b[0;34m[\u001b[0m\u001b[0;36m8\u001b[0m\u001b[0;34m,\u001b[0m\u001b[0;36m11\u001b[0m\u001b[0;34m]\u001b[0m\u001b[0;34m,\u001b[0m\u001b[0;34m\u001b[0m\u001b[0;34m\u001b[0m\u001b[0m\n\u001b[1;32m      7\u001b[0m                          [9,12]])\n\u001b[0;32m----> 8\u001b[0;31m \u001b[0mtorch\u001b[0m\u001b[0;34m.\u001b[0m\u001b[0mmm\u001b[0m\u001b[0;34m(\u001b[0m\u001b[0mtensor_A\u001b[0m\u001b[0;34m,\u001b[0m \u001b[0mtensor_B\u001b[0m\u001b[0;34m)\u001b[0m \u001b[0;31m#torch.mm is the same as torch.matmul (it's an alias for torch.matmul)\u001b[0m\u001b[0;34m\u001b[0m\u001b[0;34m\u001b[0m\u001b[0m\n\u001b[0m",
            "\u001b[0;31mRuntimeError\u001b[0m: mat1 and mat2 shapes cannot be multiplied (3x2 and 3x2)"
          ]
        }
      ]
    },
    {
      "cell_type": "markdown",
      "source": [
        "###To fix our tensor shape issues, we can manipulate the shape of one of our tensors using a transpose\n",
        "A **transpose** switches the axes or dimensions of a given tensor"
      ],
      "metadata": {
        "id": "tAcBgMJi9JJD"
      }
    },
    {
      "cell_type": "code",
      "source": [
        "tensor_B.T.shape"
      ],
      "metadata": {
        "colab": {
          "base_uri": "https://localhost:8080/"
        },
        "id": "9_Sw4vyw9CRe",
        "outputId": "e0af4c70-e004-46e6-cb6c-8c28925f8ec3"
      },
      "execution_count": 42,
      "outputs": [
        {
          "output_type": "execute_result",
          "data": {
            "text/plain": [
              "torch.Size([2, 3])"
            ]
          },
          "metadata": {},
          "execution_count": 42
        }
      ]
    },
    {
      "cell_type": "code",
      "source": [
        "#the matrix multiplication operation works when tensor_B is transposed\n",
        "print(f\"Original shapes: tensor_A = {tensor_A.shape}, tensor_B = {tensor_B.shape}\")\n",
        "print(f\"New shapes: tensor_A = {tensor_A.shape} (same shape as above), tensor_B.T = {tensor_B.T.shape}\")\n",
        "print(f\"Multiplying: {tensor_A.shape} @ {tensor_B.T.shape} <- inner dimensions must match\")\n",
        "print(\"Output:\\n\")\n",
        "output = torch.mm(tensor_A, tensor_B.T)\n",
        "print(output)\n",
        "print(f\"\\nOutput shape: {output.shape}\")"
      ],
      "metadata": {
        "colab": {
          "base_uri": "https://localhost:8080/"
        },
        "id": "WNbGHDzs90ds",
        "outputId": "ee282119-ef0c-4b09-8450-3abfaf683392"
      },
      "execution_count": 43,
      "outputs": [
        {
          "output_type": "stream",
          "name": "stdout",
          "text": [
            "Original shapes: tensor_A = torch.Size([3, 2]), tensor_B = torch.Size([3, 2])\n",
            "New shapes: tensor_A = torch.Size([3, 2]) (same shape as above), tensor_B.T = torch.Size([2, 3])\n",
            "Multiplying: torch.Size([3, 2]) @ torch.Size([2, 3]) <- inner dimensions must match\n",
            "Output:\n",
            "\n",
            "tensor([[ 27,  30,  33],\n",
            "        [ 61,  68,  75],\n",
            "        [ 95, 106, 117]])\n",
            "\n",
            "Output shape: torch.Size([3, 3])\n"
          ]
        }
      ]
    },
    {
      "cell_type": "code",
      "source": [
        "#playing around with mm\n",
        "tensor_C = torch.rand(10,3)\n",
        "tensor_D = torch.rand(2,10)\n",
        "torch.mm(tensor_C, tensor_D)"
      ],
      "metadata": {
        "colab": {
          "base_uri": "https://localhost:8080/",
          "height": 180
        },
        "id": "YVYfael190ba",
        "outputId": "70ac2105-1641-411f-b505-1fa482d143b1"
      },
      "execution_count": 44,
      "outputs": [
        {
          "output_type": "error",
          "ename": "RuntimeError",
          "evalue": "mat1 and mat2 shapes cannot be multiplied (10x3 and 2x10)",
          "traceback": [
            "\u001b[0;31m---------------------------------------------------------------------------\u001b[0m",
            "\u001b[0;31mRuntimeError\u001b[0m                              Traceback (most recent call last)",
            "\u001b[0;32m/tmp/ipython-input-2209048928.py\u001b[0m in \u001b[0;36m<cell line: 0>\u001b[0;34m()\u001b[0m\n\u001b[1;32m      2\u001b[0m \u001b[0mtensor_C\u001b[0m \u001b[0;34m=\u001b[0m \u001b[0mtorch\u001b[0m\u001b[0;34m.\u001b[0m\u001b[0mrand\u001b[0m\u001b[0;34m(\u001b[0m\u001b[0;36m10\u001b[0m\u001b[0;34m,\u001b[0m\u001b[0;36m3\u001b[0m\u001b[0;34m)\u001b[0m\u001b[0;34m\u001b[0m\u001b[0;34m\u001b[0m\u001b[0m\n\u001b[1;32m      3\u001b[0m \u001b[0mtensor_D\u001b[0m \u001b[0;34m=\u001b[0m \u001b[0mtorch\u001b[0m\u001b[0;34m.\u001b[0m\u001b[0mrand\u001b[0m\u001b[0;34m(\u001b[0m\u001b[0;36m2\u001b[0m\u001b[0;34m,\u001b[0m\u001b[0;36m10\u001b[0m\u001b[0;34m)\u001b[0m\u001b[0;34m\u001b[0m\u001b[0;34m\u001b[0m\u001b[0m\n\u001b[0;32m----> 4\u001b[0;31m \u001b[0mtorch\u001b[0m\u001b[0;34m.\u001b[0m\u001b[0mmm\u001b[0m\u001b[0;34m(\u001b[0m\u001b[0mtensor_C\u001b[0m\u001b[0;34m,\u001b[0m \u001b[0mtensor_D\u001b[0m\u001b[0;34m)\u001b[0m\u001b[0;34m\u001b[0m\u001b[0;34m\u001b[0m\u001b[0m\n\u001b[0m",
            "\u001b[0;31mRuntimeError\u001b[0m: mat1 and mat2 shapes cannot be multiplied (10x3 and 2x10)"
          ]
        }
      ]
    },
    {
      "cell_type": "code",
      "source": [
        "#inner dimensions gotta match\n",
        "torch.mm(tensor_C.T, tensor_D.T)"
      ],
      "metadata": {
        "colab": {
          "base_uri": "https://localhost:8080/"
        },
        "id": "6e3QO1tf90Wc",
        "outputId": "6d03968d-0ba6-40ae-d80d-d1820954b987"
      },
      "execution_count": 65,
      "outputs": [
        {
          "output_type": "execute_result",
          "data": {
            "text/plain": [
              "tensor([[3.9385, 2.2599],\n",
              "        [3.2631, 2.1291],\n",
              "        [3.5936, 2.6914]])"
            ]
          },
          "metadata": {},
          "execution_count": 65
        }
      ]
    },
    {
      "cell_type": "markdown",
      "source": [
        "###Finding the min, max, mean, sum, etc (tensor aggregation)"
      ],
      "metadata": {
        "id": "Edk0xqNGbIj4"
      }
    },
    {
      "cell_type": "code",
      "source": [
        "#create a tensor\n",
        "x = torch.arange(0,100,10)\n",
        "x"
      ],
      "metadata": {
        "colab": {
          "base_uri": "https://localhost:8080/"
        },
        "id": "pJuRT4yc90Qo",
        "outputId": "c165c311-f5c7-4049-d577-764ea3992318"
      },
      "execution_count": 66,
      "outputs": [
        {
          "output_type": "execute_result",
          "data": {
            "text/plain": [
              "tensor([ 0, 10, 20, 30, 40, 50, 60, 70, 80, 90])"
            ]
          },
          "metadata": {},
          "execution_count": 66
        }
      ]
    },
    {
      "cell_type": "code",
      "source": [
        "#find the minimum\n",
        "torch.min(x) or x.min()"
      ],
      "metadata": {
        "colab": {
          "base_uri": "https://localhost:8080/"
        },
        "id": "T-w61-9D90Jl",
        "outputId": "dca80d77-530c-485b-a38a-e07c815f9194"
      },
      "execution_count": 67,
      "outputs": [
        {
          "output_type": "execute_result",
          "data": {
            "text/plain": [
              "tensor(0)"
            ]
          },
          "metadata": {},
          "execution_count": 67
        }
      ]
    },
    {
      "cell_type": "code",
      "source": [
        "#find the max\n",
        "torch.max(x) or x.max()"
      ],
      "metadata": {
        "colab": {
          "base_uri": "https://localhost:8080/"
        },
        "id": "kKV3jVfd90Ai",
        "outputId": "48e443a2-fcca-487c-9f78-601548ed8f6f"
      },
      "execution_count": 68,
      "outputs": [
        {
          "output_type": "execute_result",
          "data": {
            "text/plain": [
              "tensor(90)"
            ]
          },
          "metadata": {},
          "execution_count": 68
        }
      ]
    },
    {
      "cell_type": "code",
      "source": [
        "#find the mean: the torch.mean function requires a tensor of float32 datatype to work\n",
        "torch.mean(x.type(torch.float32)) or x.type(torch.float32).mean()"
      ],
      "metadata": {
        "colab": {
          "base_uri": "https://localhost:8080/"
        },
        "id": "5PcfyOug9z4P",
        "outputId": "89da1185-60e7-4ef8-8127-d1eb77fbf508"
      },
      "execution_count": 69,
      "outputs": [
        {
          "output_type": "execute_result",
          "data": {
            "text/plain": [
              "tensor(45.)"
            ]
          },
          "metadata": {},
          "execution_count": 69
        }
      ]
    },
    {
      "cell_type": "code",
      "source": [
        "#find the sum\n",
        "torch.sum(x) or x.sum()"
      ],
      "metadata": {
        "colab": {
          "base_uri": "https://localhost:8080/"
        },
        "id": "HFBocrEscMOD",
        "outputId": "7fc308f7-eefb-46c4-9d6c-373cc96ecd94"
      },
      "execution_count": 70,
      "outputs": [
        {
          "output_type": "execute_result",
          "data": {
            "text/plain": [
              "tensor(450)"
            ]
          },
          "metadata": {},
          "execution_count": 70
        }
      ]
    },
    {
      "cell_type": "code",
      "source": [
        "#find the position in tensor that has the minimum and maximum value with argmin <- returns index value\n",
        "torch.argmin(x), torch.argmax(x)"
      ],
      "metadata": {
        "colab": {
          "base_uri": "https://localhost:8080/"
        },
        "id": "BQpYszq4cMLU",
        "outputId": "a11adff6-1f16-46f2-a951-276b08e3343a"
      },
      "execution_count": 71,
      "outputs": [
        {
          "output_type": "execute_result",
          "data": {
            "text/plain": [
              "(tensor(0), tensor(9))"
            ]
          },
          "metadata": {},
          "execution_count": 71
        }
      ]
    },
    {
      "cell_type": "code",
      "source": [
        "x[0], x[9]"
      ],
      "metadata": {
        "colab": {
          "base_uri": "https://localhost:8080/"
        },
        "id": "xaPX3pPKcMGi",
        "outputId": "f1ade7c3-222b-4df4-df32-7fe977dda091"
      },
      "execution_count": 72,
      "outputs": [
        {
          "output_type": "execute_result",
          "data": {
            "text/plain": [
              "(tensor(0), tensor(90))"
            ]
          },
          "metadata": {},
          "execution_count": 72
        }
      ]
    },
    {
      "cell_type": "markdown",
      "source": [
        "###Reshaping, stacking, squeezing and unsqueezing tensors\n",
        "\n",
        "\n",
        "*   Reshaping - reshapes an input tensor to a defined shape\n",
        "*   View- return a view of an input tensor of certain shape but keep the same memory as the original tensor\n",
        "\n",
        "\n",
        "*   Stacking 0 combine multiple tensors on top of each other (vstack) or side by side (hstack)\n",
        "*   Squeeze - removes all `1` dimensions from a tensor\n",
        "\n",
        "\n",
        "*   Unsqueeze - add a `1` dimension to a target tensor\n",
        "\n",
        "\n",
        "*   Permute - Return a view of the input with dimensions permuted (swapped) in a certain way\n",
        "\n",
        "\n",
        "\n",
        "\n",
        "\n",
        "\n",
        "\n",
        "\n",
        "\n"
      ],
      "metadata": {
        "id": "KbhHlYRRdotS"
      }
    },
    {
      "cell_type": "code",
      "source": [
        "#create a tensor\n",
        "import torch\n",
        "x = torch.arange(1.,10.)\n",
        "x, x.shape"
      ],
      "metadata": {
        "colab": {
          "base_uri": "https://localhost:8080/"
        },
        "id": "i1i6mgtWdnvQ",
        "outputId": "73b94303-88aa-4159-82ba-18c623ad237b"
      },
      "execution_count": 73,
      "outputs": [
        {
          "output_type": "execute_result",
          "data": {
            "text/plain": [
              "(tensor([1., 2., 3., 4., 5., 6., 7., 8., 9.]), torch.Size([9]))"
            ]
          },
          "metadata": {},
          "execution_count": 73
        }
      ]
    },
    {
      "cell_type": "code",
      "source": [
        "#add an extra dimension\n",
        "x_reshaped = x.reshape(1,9)\n",
        "x_reshaped, x_reshaped.shape\n"
      ],
      "metadata": {
        "colab": {
          "base_uri": "https://localhost:8080/"
        },
        "id": "OiFEQWgRcMBL",
        "outputId": "f53ad29f-e10d-41f7-bc64-03a1b4d90740"
      },
      "execution_count": 74,
      "outputs": [
        {
          "output_type": "execute_result",
          "data": {
            "text/plain": [
              "(tensor([[1., 2., 3., 4., 5., 6., 7., 8., 9.]]), torch.Size([1, 9]))"
            ]
          },
          "metadata": {},
          "execution_count": 74
        }
      ]
    },
    {
      "cell_type": "code",
      "source": [
        "#change the view\n",
        "z = x.view(1,9)\n",
        "z, z.shape"
      ],
      "metadata": {
        "colab": {
          "base_uri": "https://localhost:8080/"
        },
        "id": "WgbQbg65cL7a",
        "outputId": "dd423c72-fe0a-4e52-962a-68125c128f06"
      },
      "execution_count": 75,
      "outputs": [
        {
          "output_type": "execute_result",
          "data": {
            "text/plain": [
              "(tensor([[1., 2., 3., 4., 5., 6., 7., 8., 9.]]), torch.Size([1, 9]))"
            ]
          },
          "metadata": {},
          "execution_count": 75
        }
      ]
    },
    {
      "cell_type": "code",
      "source": [
        "#changing z changes x (because a view of a tensor shares the same memory as the original tensor)\n",
        "z[:,0] = 5\n",
        "z,x"
      ],
      "metadata": {
        "colab": {
          "base_uri": "https://localhost:8080/"
        },
        "id": "iaTQqg5PcLy1",
        "outputId": "187ab3be-7719-4ae4-dbed-1de8aeffdf11"
      },
      "execution_count": 76,
      "outputs": [
        {
          "output_type": "execute_result",
          "data": {
            "text/plain": [
              "(tensor([[5., 2., 3., 4., 5., 6., 7., 8., 9.]]),\n",
              " tensor([5., 2., 3., 4., 5., 6., 7., 8., 9.]))"
            ]
          },
          "metadata": {},
          "execution_count": 76
        }
      ]
    },
    {
      "cell_type": "code",
      "source": [
        "#stack tensors on top of each other\n",
        "x_stacked = torch.stack([x, x, x, x], dim=0)\n",
        "x_stacked"
      ],
      "metadata": {
        "colab": {
          "base_uri": "https://localhost:8080/"
        },
        "id": "wS1fTw56cLwd",
        "outputId": "883598ed-379f-4415-f64f-b76783fe2443"
      },
      "execution_count": 77,
      "outputs": [
        {
          "output_type": "execute_result",
          "data": {
            "text/plain": [
              "tensor([[5., 2., 3., 4., 5., 6., 7., 8., 9.],\n",
              "        [5., 2., 3., 4., 5., 6., 7., 8., 9.],\n",
              "        [5., 2., 3., 4., 5., 6., 7., 8., 9.],\n",
              "        [5., 2., 3., 4., 5., 6., 7., 8., 9.]])"
            ]
          },
          "metadata": {},
          "execution_count": 77
        }
      ]
    },
    {
      "cell_type": "code",
      "source": [
        "#torch.squeeze() -remove a single dimension from a target tensor\n",
        "print(f\"Previous tensor: {x_reshaped}\")\n",
        "print(f\"Previous shape: {x_reshaped.shape}\")\n",
        "\n",
        "#remove extra dimension from x_reshaped\n",
        "x_squeezed = x_reshaped.squeeze()\n",
        "print(f\"\\nNew tensor: {x_squeezed}\")\n",
        "print(f\"New shape: {x_squeezed.shape}\")"
      ],
      "metadata": {
        "colab": {
          "base_uri": "https://localhost:8080/"
        },
        "id": "ugGHWEeZcLqs",
        "outputId": "452914eb-1d02-425f-b242-fabdbd59cccc"
      },
      "execution_count": 78,
      "outputs": [
        {
          "output_type": "stream",
          "name": "stdout",
          "text": [
            "Previous tensor: tensor([[5., 2., 3., 4., 5., 6., 7., 8., 9.]])\n",
            "Previous shape: torch.Size([1, 9])\n",
            "\n",
            "New tensor: tensor([5., 2., 3., 4., 5., 6., 7., 8., 9.])\n",
            "New shape: torch.Size([9])\n"
          ]
        }
      ]
    },
    {
      "cell_type": "code",
      "source": [
        "#torch.unsqueeze() - adds a single dimension to a target tensor at a specific dimension\n",
        "print(f\"Previous tensor: {x_squeezed}\")\n",
        "print(f\"Previous shape: {x_squeezed.shape}\")\n",
        "\n",
        "#add an extra dimension with unsqueeze\n",
        "x_unsqueezed = x_squeezed.unsqueeze(dim=0)\n",
        "print(f\"\\nNew tensor: {x_unsqueezed}\")\n",
        "print(f\"New shape: {x_unsqueezed.shape}\")"
      ],
      "metadata": {
        "colab": {
          "base_uri": "https://localhost:8080/"
        },
        "id": "8-k5k4kicLgC",
        "outputId": "c5b1cc90-9348-4c2e-b8a2-33e83c9595ba"
      },
      "execution_count": 79,
      "outputs": [
        {
          "output_type": "stream",
          "name": "stdout",
          "text": [
            "Previous tensor: tensor([5., 2., 3., 4., 5., 6., 7., 8., 9.])\n",
            "Previous shape: torch.Size([9])\n",
            "\n",
            "New tensor: tensor([[5., 2., 3., 4., 5., 6., 7., 8., 9.]])\n",
            "New shape: torch.Size([1, 9])\n"
          ]
        }
      ]
    },
    {
      "cell_type": "code",
      "source": [
        "#torch.permute - rearranges the dimensions of a target tensor in a specified order\n",
        "x_original = torch.rand(size=(224,224,3)) #[height, width, color_channels]\n",
        "\n",
        "#permute the original tensor to rearrange the axis (or dim) order\n",
        "x_permuted = x_original.permute(2,0,1) #shifts axis 0->1, 1->2, 2->0\n",
        "\n",
        "print(f\"Previous shape: {x_original.shape}\")\n",
        "print(f\"New shape: {x_permuted.shape}\") #[color_channels, height, width]"
      ],
      "metadata": {
        "colab": {
          "base_uri": "https://localhost:8080/"
        },
        "id": "vaNDLuiYdN5C",
        "outputId": "699f07a4-161b-4f14-c51e-df9905252f5f"
      },
      "execution_count": 80,
      "outputs": [
        {
          "output_type": "stream",
          "name": "stdout",
          "text": [
            "Previous shape: torch.Size([224, 224, 3])\n",
            "New shape: torch.Size([3, 224, 224])\n"
          ]
        }
      ]
    },
    {
      "cell_type": "code",
      "source": [
        "x_original[0,0,0] = 89298\n",
        "x_original[0,0,0], x_permuted[0,0,0]"
      ],
      "metadata": {
        "colab": {
          "base_uri": "https://localhost:8080/"
        },
        "id": "EiScewxydNso",
        "outputId": "b2e30d9e-a34e-4a57-9072-34c3b2c7f703"
      },
      "execution_count": 81,
      "outputs": [
        {
          "output_type": "execute_result",
          "data": {
            "text/plain": [
              "(tensor(89298.), tensor(89298.))"
            ]
          },
          "metadata": {},
          "execution_count": 81
        }
      ]
    },
    {
      "cell_type": "code",
      "source": [
        "x_original[0,0,1] = 9842\n",
        "x_original[0,0,1]\n",
        "x_permuted[0,0,1]"
      ],
      "metadata": {
        "colab": {
          "base_uri": "https://localhost:8080/"
        },
        "id": "cKe9fj4bnvj8",
        "outputId": "c5cb0c7b-27dc-4c26-e721-329c73a15dc1"
      },
      "execution_count": 82,
      "outputs": [
        {
          "output_type": "execute_result",
          "data": {
            "text/plain": [
              "tensor(0.5813)"
            ]
          },
          "metadata": {},
          "execution_count": 82
        }
      ]
    },
    {
      "cell_type": "markdown",
      "source": [
        "###Indexing (selecting data from tensors)\n",
        "Indexing with pytorch is similar to indexing with NumPy"
      ],
      "metadata": {
        "id": "yfyOSjggna3j"
      }
    },
    {
      "cell_type": "code",
      "source": [
        "#create a tensor\n",
        "import torch\n",
        "x = torch.arange(1,10).reshape(1,3,3)\n",
        "x, x.shape\n"
      ],
      "metadata": {
        "colab": {
          "base_uri": "https://localhost:8080/"
        },
        "id": "TSqq83CxdNns",
        "outputId": "be304636-1eec-4b63-f121-ed7dc1df0425"
      },
      "execution_count": 83,
      "outputs": [
        {
          "output_type": "execute_result",
          "data": {
            "text/plain": [
              "(tensor([[[1, 2, 3],\n",
              "          [4, 5, 6],\n",
              "          [7, 8, 9]]]),\n",
              " torch.Size([1, 3, 3]))"
            ]
          },
          "metadata": {},
          "execution_count": 83
        }
      ]
    },
    {
      "cell_type": "code",
      "source": [
        "#let's index on our new tensor\n",
        "x[0]"
      ],
      "metadata": {
        "colab": {
          "base_uri": "https://localhost:8080/"
        },
        "id": "tjgMCziudNhn",
        "outputId": "c8a0e2a5-87f5-4ec7-eae4-26a47ce940c3"
      },
      "execution_count": 84,
      "outputs": [
        {
          "output_type": "execute_result",
          "data": {
            "text/plain": [
              "tensor([[1, 2, 3],\n",
              "        [4, 5, 6],\n",
              "        [7, 8, 9]])"
            ]
          },
          "metadata": {},
          "execution_count": 84
        }
      ]
    },
    {
      "cell_type": "code",
      "source": [
        "#let's index on the middle bracket\n",
        "x[0][0]"
      ],
      "metadata": {
        "colab": {
          "base_uri": "https://localhost:8080/"
        },
        "id": "vRrNS-L5dNZO",
        "outputId": "59cec3e4-c812-413e-f91f-e9c04c576dde"
      },
      "execution_count": 85,
      "outputs": [
        {
          "output_type": "execute_result",
          "data": {
            "text/plain": [
              "tensor([1, 2, 3])"
            ]
          },
          "metadata": {},
          "execution_count": 85
        }
      ]
    },
    {
      "cell_type": "code",
      "source": [
        "#let's index on the most inner bracket (last dimension)\n",
        "x[0][0][0]"
      ],
      "metadata": {
        "colab": {
          "base_uri": "https://localhost:8080/"
        },
        "id": "E5rwQwI6dNWW",
        "outputId": "5948f23d-55dc-4135-d116-9c32eacd6e55"
      },
      "execution_count": 86,
      "outputs": [
        {
          "output_type": "execute_result",
          "data": {
            "text/plain": [
              "tensor(1)"
            ]
          },
          "metadata": {},
          "execution_count": 86
        }
      ]
    },
    {
      "cell_type": "code",
      "source": [
        "#you can also use \":\" to select \"all\" of a target dimension\n",
        "x[:,0]"
      ],
      "metadata": {
        "colab": {
          "base_uri": "https://localhost:8080/"
        },
        "id": "X9pPprtAdNFE",
        "outputId": "4f59cf0f-0a4c-4cac-d07f-dca370284405"
      },
      "execution_count": 87,
      "outputs": [
        {
          "output_type": "execute_result",
          "data": {
            "text/plain": [
              "tensor([[1, 2, 3]])"
            ]
          },
          "metadata": {},
          "execution_count": 87
        }
      ]
    },
    {
      "cell_type": "code",
      "source": [
        "#get all the values of the 0th and 1st dimensions but only index 1 of 2nd dimension\n",
        "x[:,:,1]"
      ],
      "metadata": {
        "colab": {
          "base_uri": "https://localhost:8080/"
        },
        "id": "j-apjua9p_3k",
        "outputId": "cfb438b5-b6be-4208-a602-0fef2cd57303"
      },
      "execution_count": 88,
      "outputs": [
        {
          "output_type": "execute_result",
          "data": {
            "text/plain": [
              "tensor([[2, 5, 8]])"
            ]
          },
          "metadata": {},
          "execution_count": 88
        }
      ]
    },
    {
      "cell_type": "code",
      "source": [
        "#get all values from the 0 dimension but only the 1 index value of the 1st and 2nd dimension\n",
        "x[:,1,1]"
      ],
      "metadata": {
        "colab": {
          "base_uri": "https://localhost:8080/"
        },
        "id": "COm22eiSp_yh",
        "outputId": "7373b248-e269-48e1-9509-17d60142c596"
      },
      "execution_count": 89,
      "outputs": [
        {
          "output_type": "execute_result",
          "data": {
            "text/plain": [
              "tensor([5])"
            ]
          },
          "metadata": {},
          "execution_count": 89
        }
      ]
    },
    {
      "cell_type": "code",
      "source": [
        "#get index 0 of 0th and 1st dimension and all values of 2nd dimension\n",
        "x[0,0,:]"
      ],
      "metadata": {
        "colab": {
          "base_uri": "https://localhost:8080/"
        },
        "id": "eSLbteaVp_vr",
        "outputId": "2c1a9ab2-5c5b-4e1a-890b-5f54955e55cb"
      },
      "execution_count": 90,
      "outputs": [
        {
          "output_type": "execute_result",
          "data": {
            "text/plain": [
              "tensor([1, 2, 3])"
            ]
          },
          "metadata": {},
          "execution_count": 90
        }
      ]
    },
    {
      "cell_type": "code",
      "source": [
        "#index on x to return 9\n",
        "x[0][2][2], x[:,2,2]"
      ],
      "metadata": {
        "colab": {
          "base_uri": "https://localhost:8080/"
        },
        "id": "xJNuPjAgp_r6",
        "outputId": "d1ad39f1-21f3-4fa9-b328-5baf49def669"
      },
      "execution_count": 91,
      "outputs": [
        {
          "output_type": "execute_result",
          "data": {
            "text/plain": [
              "(tensor(9), tensor([9]))"
            ]
          },
          "metadata": {},
          "execution_count": 91
        }
      ]
    },
    {
      "cell_type": "code",
      "source": [
        "#index on x to return 3,6,9\n",
        "x[:,:,2]"
      ],
      "metadata": {
        "colab": {
          "base_uri": "https://localhost:8080/"
        },
        "id": "adaV-YQep_l3",
        "outputId": "84b08983-fd6b-4610-bc60-464a25f4fb4a"
      },
      "execution_count": 92,
      "outputs": [
        {
          "output_type": "execute_result",
          "data": {
            "text/plain": [
              "tensor([[3, 6, 9]])"
            ]
          },
          "metadata": {},
          "execution_count": 92
        }
      ]
    },
    {
      "cell_type": "markdown",
      "source": [
        "###PyTorch tensors and NumPy\n",
        "NumPy is a popular scientific python numerical computing library. And because of this, PyTorch has functionality to interact with it.\n",
        "\n",
        "\n",
        "*   Data in NumPy, want in pytorch tensor -> `torch.from_numpy(ndarrary)`\n",
        "*   PyTorch tensor to Numpy -> `torch.Tensor.numpy()`\n",
        "\n"
      ],
      "metadata": {
        "id": "1lSWS7ZHr7V9"
      }
    },
    {
      "cell_type": "code",
      "source": [
        "#NumPy array to tensor\n",
        "import torch\n",
        "import numpy as np\n",
        "\n",
        "array = np.arange(1.0,8.0)\n",
        "tensor = torch.from_numpy(array) #warning: when converting from numpy -> pytorch, pytorch reflects numpy's default datatype of float64 unless specified otherwise\n",
        "array, tensor"
      ],
      "metadata": {
        "id": "kM3URywosVtj",
        "colab": {
          "base_uri": "https://localhost:8080/"
        },
        "outputId": "e52e35cb-f2d4-4c9b-eb08-127a5b2c2541"
      },
      "execution_count": 93,
      "outputs": [
        {
          "output_type": "execute_result",
          "data": {
            "text/plain": [
              "(array([1., 2., 3., 4., 5., 6., 7.]),\n",
              " tensor([1., 2., 3., 4., 5., 6., 7.], dtype=torch.float64))"
            ]
          },
          "metadata": {},
          "execution_count": 93
        }
      ]
    },
    {
      "cell_type": "code",
      "source": [
        "#change the value of the array, what will this do to tensor? nothing\n",
        "array = array+1\n",
        "array, tensor"
      ],
      "metadata": {
        "id": "ElbJMG54sVqC",
        "colab": {
          "base_uri": "https://localhost:8080/"
        },
        "outputId": "966cc9de-e0ea-4743-9a02-95c90037c778"
      },
      "execution_count": 94,
      "outputs": [
        {
          "output_type": "execute_result",
          "data": {
            "text/plain": [
              "(array([2., 3., 4., 5., 6., 7., 8.]),\n",
              " tensor([1., 2., 3., 4., 5., 6., 7.], dtype=torch.float64))"
            ]
          },
          "metadata": {},
          "execution_count": 94
        }
      ]
    },
    {
      "cell_type": "code",
      "source": [
        "#tensor to numpy array\n",
        "tensor = torch.ones(7)\n",
        "numpy_tensor = tensor.numpy()\n",
        "tensor, numpy_tensor"
      ],
      "metadata": {
        "id": "VHsWJbRusVmH",
        "colab": {
          "base_uri": "https://localhost:8080/"
        },
        "outputId": "f4f1ab44-3f9d-4584-f3f5-ebb1fa3a3651"
      },
      "execution_count": 95,
      "outputs": [
        {
          "output_type": "execute_result",
          "data": {
            "text/plain": [
              "(tensor([1., 1., 1., 1., 1., 1., 1.]),\n",
              " array([1., 1., 1., 1., 1., 1., 1.], dtype=float32))"
            ]
          },
          "metadata": {},
          "execution_count": 95
        }
      ]
    },
    {
      "cell_type": "code",
      "source": [
        "numpy_tensor.dtype"
      ],
      "metadata": {
        "id": "yc9_lVhKsViI",
        "colab": {
          "base_uri": "https://localhost:8080/"
        },
        "outputId": "db6ce8eb-12c6-4642-fc23-e2ac6cb7fbc2"
      },
      "execution_count": 96,
      "outputs": [
        {
          "output_type": "execute_result",
          "data": {
            "text/plain": [
              "dtype('float32')"
            ]
          },
          "metadata": {},
          "execution_count": 96
        }
      ]
    },
    {
      "cell_type": "code",
      "source": [
        "#change the tensor, what happens to numpy_tensor? nothing\n",
        "tensor = tensor + 1\n",
        "tensor, numpy_tensor"
      ],
      "metadata": {
        "id": "c7P2VdJ8sVeO",
        "colab": {
          "base_uri": "https://localhost:8080/"
        },
        "outputId": "f770d8b7-8d07-4388-8456-410dae6bc0e5"
      },
      "execution_count": 97,
      "outputs": [
        {
          "output_type": "execute_result",
          "data": {
            "text/plain": [
              "(tensor([2., 2., 2., 2., 2., 2., 2.]),\n",
              " array([1., 1., 1., 1., 1., 1., 1.], dtype=float32))"
            ]
          },
          "metadata": {},
          "execution_count": 97
        }
      ]
    },
    {
      "cell_type": "markdown",
      "source": [
        "### Reproducibility (trying to take the random out of randomness)\n",
        "In short, how a neural network learns:\n",
        "\n",
        "`start with random numbers -> tensor operations -> update random numbers to try and make them better representation of data -> again -> again -> again...`\n",
        "\n",
        "To reduce the randomness in neural networks and pytorch comes the concept of a **random seed**\n",
        "\n",
        "Essentially what random seed does is flavor the randomness"
      ],
      "metadata": {
        "id": "Ix0u_R5KhDRk"
      }
    },
    {
      "cell_type": "code",
      "source": [
        "import torch\n",
        "#create two random tensors\n",
        "random_tensor_A = torch.rand(3,4)\n",
        "random_tensor_B = torch.rand(3,4)\n",
        "\n",
        "print(random_tensor_A)\n",
        "print(random_tensor_B)\n",
        "print(random_tensor_A == random_tensor_B)"
      ],
      "metadata": {
        "id": "1lkcw8-_sVWN",
        "colab": {
          "base_uri": "https://localhost:8080/"
        },
        "outputId": "507e4024-9fe0-4960-ae2e-b4c155cd897b"
      },
      "execution_count": 99,
      "outputs": [
        {
          "output_type": "stream",
          "name": "stdout",
          "text": [
            "tensor([[0.5207, 0.3548, 0.8912, 0.4898],\n",
            "        [0.7341, 0.9961, 0.7293, 0.5423],\n",
            "        [0.4411, 0.6721, 0.6974, 0.4444]])\n",
            "tensor([[0.8522, 0.6563, 0.6422, 0.1024],\n",
            "        [0.5623, 0.0054, 0.6263, 0.1633],\n",
            "        [0.1106, 0.9393, 0.6426, 0.5729]])\n",
            "tensor([[False, False, False, False],\n",
            "        [False, False, False, False],\n",
            "        [False, False, False, False]])\n"
          ]
        }
      ]
    },
    {
      "cell_type": "code",
      "source": [
        "#let's make some random n=but reproducible tensors\n",
        "import torch\n",
        "\n",
        "#set random seed\n",
        "random_seed = 1234\n",
        "torch.manual_seed(random_seed)\n",
        "random_tensor_c = torch.rand(3,4)\n",
        "\n",
        "torch.manual_seed(random_seed)\n",
        "random_tensor_d = torch.rand(3,4)\n",
        "\n",
        "print(random_tensor_c)\n",
        "print(random_tensor_d)\n",
        "print(random_tensor_c == random_tensor_d)\n"
      ],
      "metadata": {
        "id": "7lTeEK_hsVTn",
        "colab": {
          "base_uri": "https://localhost:8080/"
        },
        "outputId": "305e1276-d9cd-4bae-d8cf-810824cc6724"
      },
      "execution_count": 101,
      "outputs": [
        {
          "output_type": "stream",
          "name": "stdout",
          "text": [
            "tensor([[0.0290, 0.4019, 0.2598, 0.3666],\n",
            "        [0.0583, 0.7006, 0.0518, 0.4681],\n",
            "        [0.6738, 0.3315, 0.7837, 0.5631]])\n",
            "tensor([[0.0290, 0.4019, 0.2598, 0.3666],\n",
            "        [0.0583, 0.7006, 0.0518, 0.4681],\n",
            "        [0.6738, 0.3315, 0.7837, 0.5631]])\n",
            "tensor([[True, True, True, True],\n",
            "        [True, True, True, True],\n",
            "        [True, True, True, True]])\n"
          ]
        }
      ]
    },
    {
      "cell_type": "markdown",
      "source": [
        "## Running tensors and pytorch objects on GPUs (and making faster computations)\n",
        "GPUs = faster computation on numbers, thanks to CUDA + NVIDIA hardware + PyTorch working behind the scences to make everything good\n",
        "\n",
        "1. Easiest- use google colab for a free gpu\n",
        "2. Use your own GPU- takes a little bit of setup and requires the investment of purchse of a gpu\n",
        "3. Use cloud computing - GCP, AWS, Azure"
      ],
      "metadata": {
        "id": "qdV-nF26jm5N"
      }
    },
    {
      "cell_type": "code",
      "source": [
        "!nvidia-smi"
      ],
      "metadata": {
        "colab": {
          "base_uri": "https://localhost:8080/"
        },
        "id": "D6Mp4JArjlsc",
        "outputId": "53ce9af2-22f8-43fd-98ad-e478fb4e1530"
      },
      "execution_count": 2,
      "outputs": [
        {
          "output_type": "stream",
          "name": "stdout",
          "text": [
            "Fri Sep 26 01:34:29 2025       \n",
            "+-----------------------------------------------------------------------------------------+\n",
            "| NVIDIA-SMI 550.54.15              Driver Version: 550.54.15      CUDA Version: 12.4     |\n",
            "|-----------------------------------------+------------------------+----------------------+\n",
            "| GPU  Name                 Persistence-M | Bus-Id          Disp.A | Volatile Uncorr. ECC |\n",
            "| Fan  Temp   Perf          Pwr:Usage/Cap |           Memory-Usage | GPU-Util  Compute M. |\n",
            "|                                         |                        |               MIG M. |\n",
            "|=========================================+========================+======================|\n",
            "|   0  Tesla T4                       Off |   00000000:00:04.0 Off |                    0 |\n",
            "| N/A   40C    P8              9W /   70W |       0MiB /  15360MiB |      0%      Default |\n",
            "|                                         |                        |                  N/A |\n",
            "+-----------------------------------------+------------------------+----------------------+\n",
            "                                                                                         \n",
            "+-----------------------------------------------------------------------------------------+\n",
            "| Processes:                                                                              |\n",
            "|  GPU   GI   CI        PID   Type   Process name                              GPU Memory |\n",
            "|        ID   ID                                                               Usage      |\n",
            "|=========================================================================================|\n",
            "|  No running processes found                                                             |\n",
            "+-----------------------------------------------------------------------------------------+\n"
          ]
        }
      ]
    },
    {
      "cell_type": "markdown",
      "source": [
        "###Check for GPU access with PyTorch"
      ],
      "metadata": {
        "id": "G3Q21cRrq8Hv"
      }
    },
    {
      "cell_type": "code",
      "source": [
        "#check for gpu access with PyTorch\n",
        "import torch\n",
        "torch.cuda.is_available()"
      ],
      "metadata": {
        "id": "jCJNs05rsVMK",
        "colab": {
          "base_uri": "https://localhost:8080/"
        },
        "outputId": "c864f347-35fa-4022-ba0a-251b37aa0cbd"
      },
      "execution_count": 5,
      "outputs": [
        {
          "output_type": "execute_result",
          "data": {
            "text/plain": [
              "True"
            ]
          },
          "metadata": {},
          "execution_count": 5
        }
      ]
    },
    {
      "cell_type": "code",
      "source": [
        "#setup device agnostic code\n",
        "device = \"cuda\" if torch.cuda.is_available() else \"cpu\"\n",
        "device"
      ],
      "metadata": {
        "colab": {
          "base_uri": "https://localhost:8080/",
          "height": 35
        },
        "id": "5kNITBhwrS72",
        "outputId": "11dc987c-4aed-4751-e36a-d106816fd9cb"
      },
      "execution_count": 6,
      "outputs": [
        {
          "output_type": "execute_result",
          "data": {
            "text/plain": [
              "'cuda'"
            ],
            "application/vnd.google.colaboratory.intrinsic+json": {
              "type": "string"
            }
          },
          "metadata": {},
          "execution_count": 6
        }
      ]
    },
    {
      "cell_type": "code",
      "source": [
        "#count number of devices\n",
        "torch.cuda.device_count()"
      ],
      "metadata": {
        "id": "UZ2XtISvsVJt",
        "colab": {
          "base_uri": "https://localhost:8080/"
        },
        "outputId": "1c205c72-7217-45e8-9a20-dae8970bd4a9"
      },
      "execution_count": 7,
      "outputs": [
        {
          "output_type": "execute_result",
          "data": {
            "text/plain": [
              "1"
            ]
          },
          "metadata": {},
          "execution_count": 7
        }
      ]
    },
    {
      "cell_type": "markdown",
      "source": [
        "##3. Putting tensors (models) on the GPU\n",
        "The reason we want our tensors/models on the GPU is because using a GPU results in faster computations."
      ],
      "metadata": {
        "id": "BVBxZDBIsOX-"
      }
    },
    {
      "cell_type": "code",
      "source": [
        "#create a tensor (default on cpu)\n",
        "tensor = torch.tensor([1,2,3])\n",
        "\n",
        "#tensor not on gpu\n",
        "print(tensor, tensor.device)"
      ],
      "metadata": {
        "id": "2ammeAzVsVDY",
        "colab": {
          "base_uri": "https://localhost:8080/"
        },
        "outputId": "d26bf91b-56c3-4820-f8a6-fcd406f9e151"
      },
      "execution_count": 16,
      "outputs": [
        {
          "output_type": "stream",
          "name": "stdout",
          "text": [
            "tensor([1, 2, 3], device='cuda:0') cuda:0\n"
          ]
        }
      ]
    },
    {
      "cell_type": "code",
      "source": [
        "#move tensor to gpu (if available)\n",
        "tensor_on_gpu = tensor.to(device)\n",
        "tensor_on_gpu\n"
      ],
      "metadata": {
        "id": "hy7KSthksU-z",
        "colab": {
          "base_uri": "https://localhost:8080/"
        },
        "outputId": "c2da451a-a898-4bd1-b535-ac7718c6a7d7"
      },
      "execution_count": 17,
      "outputs": [
        {
          "output_type": "execute_result",
          "data": {
            "text/plain": [
              "tensor([1, 2, 3], device='cuda:0')"
            ]
          },
          "metadata": {},
          "execution_count": 17
        }
      ]
    },
    {
      "cell_type": "markdown",
      "source": [
        "##4. Moving tensors back to the CPU"
      ],
      "metadata": {
        "id": "q_xZ4oxquLU-"
      }
    },
    {
      "cell_type": "code",
      "source": [
        "#if tensor is on gpu, can't transform it to NumPy\n",
        "# tensor_on_gpu.numpy() # This will produce an error\n",
        "\n",
        "tensor_back_on_cpu = tensor_on_gpu.numpy()\n",
        "tensor_back_on_cpu"
      ],
      "metadata": {
        "id": "I2B2GQnup_eV",
        "colab": {
          "base_uri": "https://localhost:8080/",
          "height": 216
        },
        "outputId": "5e59c1eb-82b8-45cc-fc6e-72aa61f6399d"
      },
      "execution_count": 21,
      "outputs": [
        {
          "output_type": "error",
          "ename": "TypeError",
          "evalue": "can't convert cuda:0 device type tensor to numpy. Use Tensor.cpu() to copy the tensor to host memory first.",
          "traceback": [
            "\u001b[0;31m---------------------------------------------------------------------------\u001b[0m",
            "\u001b[0;31mTypeError\u001b[0m                                 Traceback (most recent call last)",
            "\u001b[0;32m/tmp/ipython-input-1476571743.py\u001b[0m in \u001b[0;36m<cell line: 0>\u001b[0;34m()\u001b[0m\n\u001b[1;32m      3\u001b[0m \u001b[0;34m\u001b[0m\u001b[0m\n\u001b[1;32m      4\u001b[0m \u001b[0;31m# to fix this, we can first set it to the CPU\u001b[0m\u001b[0;34m\u001b[0m\u001b[0;34m\u001b[0m\u001b[0m\n\u001b[0;32m----> 5\u001b[0;31m \u001b[0mtensor_back_on_cpu\u001b[0m \u001b[0;34m=\u001b[0m \u001b[0mtensor_on_gpu\u001b[0m\u001b[0;34m.\u001b[0m\u001b[0mnumpy\u001b[0m\u001b[0;34m(\u001b[0m\u001b[0;34m)\u001b[0m\u001b[0;34m\u001b[0m\u001b[0;34m\u001b[0m\u001b[0m\n\u001b[0m\u001b[1;32m      6\u001b[0m \u001b[0mtensor_back_on_cpu\u001b[0m\u001b[0;34m\u001b[0m\u001b[0;34m\u001b[0m\u001b[0m\n",
            "\u001b[0;31mTypeError\u001b[0m: can't convert cuda:0 device type tensor to numpy. Use Tensor.cpu() to copy the tensor to host memory first."
          ]
        }
      ]
    },
    {
      "cell_type": "code",
      "source": [
        "#to fix the GOU tensor with numpy issue, we can first set it to the CPU\n",
        "tensor_back_on_cpu = tensor_on_gpu.cpu().numpy()\n",
        "tensor_back_on_cpu"
      ],
      "metadata": {
        "colab": {
          "base_uri": "https://localhost:8080/"
        },
        "id": "zMypOdmZmFDD",
        "outputId": "c4097991-d49d-43af-df4d-7572507a1b7b"
      },
      "execution_count": 19,
      "outputs": [
        {
          "output_type": "execute_result",
          "data": {
            "text/plain": [
              "array([1, 2, 3])"
            ]
          },
          "metadata": {},
          "execution_count": 19
        }
      ]
    },
    {
      "cell_type": "code",
      "source": [
        "tensor_on_gpu"
      ],
      "metadata": {
        "colab": {
          "base_uri": "https://localhost:8080/"
        },
        "id": "nXoRd5PumE6q",
        "outputId": "a1fa96de-c599-418c-ecb6-4c0d7312a49d"
      },
      "execution_count": 22,
      "outputs": [
        {
          "output_type": "execute_result",
          "data": {
            "text/plain": [
              "tensor([1, 2, 3], device='cuda:0')"
            ]
          },
          "metadata": {},
          "execution_count": 22
        }
      ]
    },
    {
      "cell_type": "markdown",
      "source": [
        "##Exercises and Extra-curriculum"
      ],
      "metadata": {
        "id": "NgVUnHy-vy56"
      }
    },
    {
      "cell_type": "markdown",
      "source": [
        "### Exercise 1"
      ],
      "metadata": {
        "id": "pjs9dlO33c2i"
      }
    },
    {
      "cell_type": "code",
      "source": [
        "#1. Create a random tensor with shape (7, 7)\n",
        "import torch\n",
        "a = torch.rand(7,7)\n",
        "a"
      ],
      "metadata": {
        "colab": {
          "base_uri": "https://localhost:8080/"
        },
        "id": "Y-vt7MkCmEwH",
        "outputId": "3acc8170-0189-4259-f99b-ae12abaa3a3b"
      },
      "execution_count": 26,
      "outputs": [
        {
          "output_type": "execute_result",
          "data": {
            "text/plain": [
              "tensor([[0.6321, 0.1080, 0.3381, 0.8820, 0.0467, 0.5654, 0.9760],\n",
              "        [0.9452, 0.2435, 0.6657, 0.5206, 0.6717, 0.1642, 0.7045],\n",
              "        [0.9920, 0.0286, 0.8422, 0.0730, 0.5843, 0.2657, 0.8706],\n",
              "        [0.9435, 0.9556, 0.9175, 0.0149, 0.7510, 0.5509, 0.0582],\n",
              "        [0.5657, 0.3890, 0.2699, 0.3949, 0.8574, 0.6658, 0.3997],\n",
              "        [0.4932, 0.6147, 0.2100, 0.6042, 0.3631, 0.0931, 0.4235],\n",
              "        [0.9501, 0.0148, 0.6845, 0.3712, 0.1938, 0.3525, 0.0630]])"
            ]
          },
          "metadata": {},
          "execution_count": 26
        }
      ]
    },
    {
      "cell_type": "code",
      "source": [
        "#2. Perform a matrix multiplication on the tensor from 2 with another random tensor with shape (1, 7)\n",
        "b = torch.rand(1,7).T #transpose to get required shape for matrix multiplication\n",
        "c = torch.matmul(a,b)\n",
        "c"
      ],
      "metadata": {
        "colab": {
          "base_uri": "https://localhost:8080/"
        },
        "id": "9HSidQVCmEkT",
        "outputId": "1e0b561a-930c-48ad-fc92-ef3430ad2096"
      },
      "execution_count": 40,
      "outputs": [
        {
          "output_type": "execute_result",
          "data": {
            "text/plain": [
              "tensor([[1.1173],\n",
              "        [1.7231],\n",
              "        [1.4061],\n",
              "        [1.9499],\n",
              "        [0.9564],\n",
              "        [1.3146],\n",
              "        [1.1037]])"
            ]
          },
          "metadata": {},
          "execution_count": 40
        }
      ]
    },
    {
      "cell_type": "code",
      "source": [
        "#3. Set the random seed to 0 and do exercises 2 & 3 over again.\n",
        "torch.manual_seed(0)\n",
        "a = torch.rand(7,7)\n",
        "\n",
        "torch.manual_seed(0)\n",
        "b = torch.rand(1,7).T\n",
        "\n",
        "c = torch.matmul(a,b)\n",
        "c"
      ],
      "metadata": {
        "colab": {
          "base_uri": "https://localhost:8080/"
        },
        "id": "es3iw8sWmEbB",
        "outputId": "d7ece717-6546-47ac-8663-7ee304d8def5"
      },
      "execution_count": 39,
      "outputs": [
        {
          "output_type": "execute_result",
          "data": {
            "text/plain": [
              "tensor([[1.5985],\n",
              "        [1.1173],\n",
              "        [1.2741],\n",
              "        [1.6838],\n",
              "        [0.8279],\n",
              "        [1.0347],\n",
              "        [1.2498]])"
            ]
          },
          "metadata": {},
          "execution_count": 39
        }
      ]
    },
    {
      "cell_type": "code",
      "source": [
        "#4. Speaking of random seeds, we saw how to set it with torch.manual_seed() but is there a GPU equivalent? (hint: you'll need to look into the documentation for torch.cuda for this one). If there is, set the GPU random seed to 1234.\n",
        "torch.cuda.manual_seed(1234)"
      ],
      "metadata": {
        "id": "an9oG7rQmESt"
      },
      "execution_count": 43,
      "outputs": []
    },
    {
      "cell_type": "code",
      "source": [
        "#5. Create two random tensors of shape (2, 3) and send them both to the GPU (you'll need access to a GPU for this). Set torch.manual_seed(1234) when creating the tensors (this doesn't have to be the GPU random seed).\n",
        "\n",
        "torch.cuda.manual_seed(1234)\n",
        "device = \"cuda\" if torch.cuda.is_available() else \"cpu\"\n",
        "\n",
        "torch.manual_seed(42)\n",
        "random_tensor_a = torch.rand((2,3), device=device)\n",
        "\n",
        "torch.manual_seed(42)\n",
        "random_tensor_b = torch.rand(2,3).to(device)\n",
        "\n",
        "random_tensor_a, random_tensor_b\n"
      ],
      "metadata": {
        "colab": {
          "base_uri": "https://localhost:8080/"
        },
        "id": "S3dyjMpGmEIM",
        "outputId": "792b745a-3f1d-4241-c897-452ee5d6f77c"
      },
      "execution_count": 66,
      "outputs": [
        {
          "output_type": "execute_result",
          "data": {
            "text/plain": [
              "(tensor([[0.6130, 0.0101, 0.3984],\n",
              "         [0.0403, 0.1563, 0.4825]], device='cuda:0'),\n",
              " tensor([[0.8823, 0.9150, 0.3829],\n",
              "         [0.9593, 0.3904, 0.6009]], device='cuda:0'))"
            ]
          },
          "metadata": {},
          "execution_count": 66
        }
      ]
    },
    {
      "cell_type": "code",
      "source": [
        "#6. Perform a matrix multiplication on the tensors you created in 6 (again, you may have to adjust the shapes of one of the tensors).\n",
        "random_tensor_b = random_tensor_b.T\n",
        "random_tensor_c = torch.matmul(random_tensor_a, random_tensor_b)"
      ],
      "metadata": {
        "id": "KeoWeUn2mD_i"
      },
      "execution_count": 71,
      "outputs": []
    },
    {
      "cell_type": "code",
      "source": [
        "#7. Find the maximum and minimum values of the output of 7.\n",
        "print(f\"Max value: {random_tensor_c.max()}, Min values: {random_tensor_c.min()}\")"
      ],
      "metadata": {
        "colab": {
          "base_uri": "https://localhost:8080/"
        },
        "id": "lur5gklwmD48",
        "outputId": "4e0608b5-a74b-4e20-9277-6c416f31d9ae"
      },
      "execution_count": 72,
      "outputs": [
        {
          "output_type": "stream",
          "name": "stdout",
          "text": [
            "Max value: 0.8313482403755188, Min values: 0.36326900124549866\n"
          ]
        }
      ]
    },
    {
      "cell_type": "code",
      "source": [
        "#8. Find the maximum and minimum index values of the output of 7.\n",
        "print(f\"Max value: {random_tensor_c.argmax()}, Min values: {random_tensor_c.argmin()}\")"
      ],
      "metadata": {
        "colab": {
          "base_uri": "https://localhost:8080/"
        },
        "id": "HRrfCNb6mDyQ",
        "outputId": "d22778e8-c4e2-46dc-dea2-5e00eb9f20a6"
      },
      "execution_count": 73,
      "outputs": [
        {
          "output_type": "stream",
          "name": "stdout",
          "text": [
            "Max value: 1, Min values: 2\n"
          ]
        }
      ]
    },
    {
      "cell_type": "code",
      "source": [
        "#9. Make a random tensor with shape (1, 1, 1, 10) and then create a new tensor with all the 1 dimensions removed to be left with a tensor of shape (10). Set the seed to 7 when you create it and print out the first tensor and it's shape as well as the second tensor and it's shape.\n",
        "random_tensor_x = torch.rand(1,1,1,10)\n",
        "\n",
        "torch.manual_seed(7)\n",
        "random_tensor_y = random_tensor_x.squeeze()\n",
        "\n",
        "print(f\"First tensor: {random_tensor_x}, First tensor shape: {random_tensor_x.shape},\\n Second tensor: {random_tensor_y}, Second tensor shape: {random_tensor_y.shape}\")"
      ],
      "metadata": {
        "colab": {
          "base_uri": "https://localhost:8080/"
        },
        "id": "1xpYpIkSmDn1",
        "outputId": "f58aab6d-8490-4d55-8766-fca0ce5ea39f"
      },
      "execution_count": 81,
      "outputs": [
        {
          "output_type": "stream",
          "name": "stdout",
          "text": [
            "First tensor: tensor([[[[0.5349, 0.1988, 0.6592, 0.6569, 0.2328, 0.4251, 0.2071, 0.6297,\n",
            "           0.3653, 0.8513]]]]), First tensor shape: torch.Size([1, 1, 1, 10]),\n",
            " Second tensor: tensor([0.5349, 0.1988, 0.6592, 0.6569, 0.2328, 0.4251, 0.2071, 0.6297, 0.3653,\n",
            "        0.8513]), Second tensor shape: torch.Size([10])\n"
          ]
        }
      ]
    },
    {
      "cell_type": "code",
      "source": [],
      "metadata": {
        "id": "kU4VOBSbmDfy"
      },
      "execution_count": null,
      "outputs": []
    },
    {
      "cell_type": "code",
      "source": [],
      "metadata": {
        "id": "Z1ZZ2_WLmDVT"
      },
      "execution_count": null,
      "outputs": []
    },
    {
      "cell_type": "code",
      "source": [],
      "metadata": {
        "id": "RwKV1Np1mDH9"
      },
      "execution_count": null,
      "outputs": []
    }
  ]
}